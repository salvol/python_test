{
 "cells": [
  {
   "cell_type": "markdown",
   "id": "2c29d06d",
   "metadata": {},
   "source": [
    "# Use xraydb python database to estimate absorption coefficient\n",
    "## using the code below compare absortion coefficient value of Fe at 20keV and 60keV"
   ]
  },
  {
   "cell_type": "code",
   "execution_count": 11,
   "id": "2faaf989",
   "metadata": {},
   "outputs": [
    {
     "name": "stdout",
     "output_type": "stream",
     "text": [
      "Material  Fe\n",
      "Energy in keV =  20.0\n",
      "mu (cm-1) =  202.3822222844012\n",
      "Material  Fe\n",
      "Energy in keV =  60.0\n",
      "mu (cm-1) =  9.494880224078575\n"
     ]
    }
   ],
   "source": [
    "import numpy as np\n",
    "import matplotlib.pyplot as plt\n",
    "import xraydb\n",
    "\n",
    "# material and energy definition : energy is in eV\n",
    "Material='Fe'\n",
    "Energy=20000  # in eV\n",
    "\n",
    "# compute mu value with xraydb in cm-1\n",
    "muFe20=xraydb.material_mu(Material,Energy)\n",
    "print('Material ', Material)\n",
    "print('Energy in keV = ',Energy/1000)\n",
    "print('mu (cm-1) = ', muFe20)\n",
    "\n",
    "# material and energy definition : energy is in eV\n",
    "Material='Fe'\n",
    "Energy=60000  # in eV\n",
    "\n",
    "# compute mu value with xraydb in cm-1\n",
    "muFe60=xraydb.material_mu(Material,Energy)\n",
    "print('Material ', Material)\n",
    "print('Energy in keV = ',Energy/1000)\n",
    "print('mu (cm-1) = ', muFe60)"
   ]
  },
  {
   "cell_type": "markdown",
   "id": "05ba5d35",
   "metadata": {},
   "source": [
    "# Use xraydb python database to estimate transmission for a fixed energy\n",
    "## Compute transmission for a specific thickness using Beer Lambert Law for Fe at 20keV and 60keV. Knowing that tomography requires at least 0.2 transmission which energy is best to use between 20keV and 60 keV"
   ]
  },
  {
   "cell_type": "code",
   "execution_count": 12,
   "id": "165416e4",
   "metadata": {},
   "outputs": [
    {
     "name": "stdout",
     "output_type": "stream",
     "text": [
      "Material  Fe\n",
      "Energy in keV =  20.0\n",
      "transmission for (0.100000 cm) = 1.624246e-09\n",
      "Material  Fe\n",
      "Energy in keV =  60.0\n",
      "transmission for (0.100000 cm) = 3.869391e-01\n"
     ]
    }
   ],
   "source": [
    "# material and energy definition : energy is in eV\n",
    "Material='Fe'\n",
    "Energy=20000  # in eV\n",
    "\n",
    "# compute mu value with xraydb in cm-1\n",
    "muFe20=xraydb.material_mu(Material,Energy)\n",
    "\n",
    "# thickness\n",
    "t=0.1 # in cm\n",
    "\n",
    "#compute transmission using Beer Lambert law\n",
    "transmission=np.exp(-muFe20*t)\n",
    "print('Material ', Material)\n",
    "print('Energy in keV = ',Energy/1000)\n",
    "info ='transmission for (%f cm) = %e' %(t,transmission)\n",
    "print(info)\n",
    "\n",
    "\n",
    "# material and energy definition : energy is in eV\n",
    "Material='Fe'\n",
    "Energy=60000  # in eV\n",
    "\n",
    "# compute mu value with xraydb in cm-1\n",
    "muFe20=xraydb.material_mu(Material,Energy)\n",
    "\n",
    "# thickness\n",
    "t=0.1 # in cm\n",
    "\n",
    "#compute transmission using Beer Lambert law\n",
    "transmission=np.exp(-muFe20*t)\n",
    "print('Material ', Material)\n",
    "print('Energy in keV = ',Energy/1000)\n",
    "info ='transmission for (%f cm) = %e' %(t,transmission)\n",
    "print(info)"
   ]
  },
  {
   "cell_type": "markdown",
   "id": "54ec36fc",
   "metadata": {},
   "source": [
    "# Use xraydb python database to estimate transmission for an energy range\n",
    "## What minimum energy is required for a transmission of 0.2 in the case of Fe with 0.1 cm trhickness"
   ]
  },
  {
   "cell_type": "code",
   "execution_count": 13,
   "id": "92e8373f",
   "metadata": {},
   "outputs": [
    {
     "data": {
      "text/plain": [
       "Text(0.5, 1.0, 'Material = Fe / thickness = 0.1000 cm')"
      ]
     },
     "execution_count": 13,
     "metadata": {},
     "output_type": "execute_result"
    },
    {
     "data": {
      "image/png": "[encoded data removed]",
      "text/plain": [
       "<Figure size 432x288 with 1 Axes>"
      ]
     },
     "metadata": {
      "needs_background": "light"
     },
     "output_type": "display_data"
    }
   ],
   "source": [
    "plt.close('all')\n",
    "\n",
    "# Material information\n",
    "Material='Fe'\n",
    "thickness=0.1 # in cm\n",
    "\n",
    "# Energy range 10keV to 100keV\n",
    "Emin=10000.0\n",
    "Emax=100000.0\n",
    "Estep = 1000.0\n",
    "Energy_range=np.arange (Emin,Emax,Estep)\n",
    "\n",
    "# compute transmission for a specific thickness using Beer Lambert Law for various energies\n",
    "mu=np.zeros(len(Energy_range))\n",
    "trans=np.zeros(len(Energy_range))\n",
    "cpt=0\n",
    "for Energy_val in Energy_range:\n",
    "    # compute absorption value with xraydb\n",
    "    mu[cpt]=xraydb.material_mu(Material,Energy_val)\n",
    "    # compute transmission using Beer Lambert law\n",
    "    trans[cpt]=np.exp(-mu[cpt]*thickness)\n",
    "    cpt=cpt+1\n",
    "\n",
    "# plot transmission coefficient vs energy\n",
    "plt.figure(1)\n",
    "\n",
    "plt.plot(Energy_range/1000,trans,'b-')   \n",
    "plt.xlabel('Energy in keV')\n",
    "plt.ylabel('transmission')\n",
    "title='Material = %s / thickness = %0.4f cm' %(Material,t)\n",
    "plt.title(title)\n"
   ]
  },
  {
   "cell_type": "markdown",
   "id": "1c8a59bd",
   "metadata": {},
   "source": [
    "# Use xraydb python database to estimate transmission for a fixed energy and varying thickness (from 0.1 to 10 cm)\n",
    "## "
   ]
  },
  {
   "cell_type": "code",
   "execution_count": 14,
   "id": "18f2a2fc",
   "metadata": {},
   "outputs": [
    {
     "data": {
      "text/plain": [
       "(0.01, 1)"
      ]
     },
     "execution_count": 14,
     "metadata": {},
     "output_type": "execute_result"
    },
    {
     "data": {
      "image/png": "[encoded data removed]",
      "text/plain": [
       "<Figure size 432x288 with 1 Axes>"
      ]
     },
     "metadata": {
      "needs_background": "light"
     },
     "output_type": "display_data"
    }
   ],
   "source": [
    "plt.close('all')\n",
    "\n",
    "# Material information\n",
    "Material='Fe'\n",
    "\n",
    "# thickness range 0.1 to 10 cm\n",
    "tmin=0.1\n",
    "tmax=10.\n",
    "tstep = 0.1\n",
    "t_range=np.arange (tmin,tmax,tstep)\n",
    "\n",
    "#Energy fied to 60 keV\n",
    "Energy=60000.\n",
    "\n",
    "# compute absorption coefficient for a fixed energy\n",
    "mu=xraydb.material_mu(Material,Energy)\n",
    "\n",
    "# compute transmission for a specific energy using Beer Lambert Law for various thicknesses\n",
    "trans=np.exp(-mu*t_range)\n",
    "\n",
    "# plot transmission coefficient vs energy\n",
    "plt.figure(1)\n",
    "\n",
    "plt.loglog(t_range,trans,'b-')   \n",
    "plt.xlabel('thickness in cm')\n",
    "plt.ylabel('transmission')\n",
    "title='Material = %s / Energy = %f keV' %(Material,Energy/1000)\n",
    "plt.title(title)\n",
    "plt.ylim(0.01,1)\n"
   ]
  },
  {
   "cell_type": "markdown",
   "id": "c80815e2",
   "metadata": {},
   "source": [
    "# Use xraydb python database to find the best energy to image a rod of 0.15 cm of Iron with a transmission of at least 0.2\n"
   ]
  },
  {
   "cell_type": "code",
   "execution_count": 15,
   "id": "071ec27c",
   "metadata": {
    "scrolled": true
   },
   "outputs": [
    {
     "name": "stdout",
     "output_type": "stream",
     "text": [
      "Material  Fe\n",
      "transmission for (0.150000 cm) = 0.2006\n",
      "Minimum required Energy in keV =  57.3\n"
     ]
    }
   ],
   "source": [
    "plt.close('all')\n",
    "\n",
    "# Material information\n",
    "Material='Fe'\n",
    "thickness=0.15 # in cm\n",
    "\n",
    "# Energy range 10keV to 100keV\n",
    "Emin=10000.0\n",
    "Emax=100000.0\n",
    "Estep = 100.0\n",
    "Energy_range=np.arange (Emin,Emax,Estep)\n",
    "\n",
    "#tranmission requirements\n",
    "transmission= 0.2\n",
    "\n",
    "# compute transmission for a specific thickness using Beer Lambert Law for various energies\n",
    "mu=np.zeros(len(Energy_range))\n",
    "trans=np.zeros(len(Energy_range))\n",
    "cpt=0\n",
    "for Energy_val in Energy_range:\n",
    "    # compute absorption value with xraydb\n",
    "    mu[cpt]=xraydb.material_mu(Material,Energy_val)\n",
    "    # compute transmission using Beer Lambert law\n",
    "    trans[cpt]=np.exp(-mu[cpt]*thickness)\n",
    "    if trans[cpt]>transmission:\n",
    "        print('Material ', Material)\n",
    "        info ='transmission for (%f cm) = %0.4f' %(thickness,trans[cpt])       \n",
    "        print(info)\n",
    "        print('Minimum required Energy in keV = ',Energy_val/1000)\n",
    "        break\n",
    "    cpt=cpt+1\n",
    "\n"
   ]
  },
  {
   "cell_type": "markdown",
   "id": "511cc290",
   "metadata": {},
   "source": [
    "# Plot the contrast between Al and Cu as a function of energy : assume Al thickness is 1mm and Cu thickness is 50µm"
   ]
  },
  {
   "cell_type": "code",
   "execution_count": 22,
   "id": "60fd2ddd",
   "metadata": {},
   "outputs": [
    {
     "data": {
      "text/plain": [
       "Text(0, 0.5, 'transmission Al Cu')"
      ]
     },
     "execution_count": 22,
     "metadata": {},
     "output_type": "execute_result"
    },
    {
     "data": {
      "image/png": "[encoded data removed]",
      "text/plain": [
       "<Figure size 432x288 with 2 Axes>"
      ]
     },
     "metadata": {
      "needs_background": "light"
     },
     "output_type": "display_data"
    }
   ],
   "source": [
    "plt.close('all')\n",
    "\n",
    "# Material information\n",
    "Material1='Al'\n",
    "thickness1=0.1 # in cm\n",
    "Material2='Cu'\n",
    "thickness2=0.005 # in cm\n",
    "\n",
    "# Energy range 10keV to 100keV\n",
    "Emin=10000.0\n",
    "Emax=100000.0\n",
    "Estep = 100.0\n",
    "Energy_range=np.arange (Emin,Emax,Estep)\n",
    "\n",
    "# compute transmission for a specific thickness using Beer Lambert Law for various energies\n",
    "mu1=np.zeros(len(Energy_range))\n",
    "mu2=np.zeros(len(Energy_range))\n",
    "trans=np.zeros(len(Energy_range))\n",
    "cpt=0\n",
    "for Energy_val in Energy_range:\n",
    "    # compute absorption value with xraydb\n",
    "    mu1[cpt]=xraydb.material_mu(Material1,Energy_val)\n",
    "    mu2[cpt]=xraydb.material_mu(Material2,Energy_val)\n",
    "    # compute transmission using Beer Lambert law\n",
    "    trans[cpt]=np.exp(-mu1[cpt]*thickness1)*np.exp(-mu2[cpt]*thickness2)\n",
    "    cpt=cpt+1\n",
    "\n",
    "fig,ax1=plt.subplots()\n",
    "ax2=ax1.twinx()\n",
    "\n",
    "ax1.semilogy(Energy_range/1000,mu2-mu1,'b-')   \n",
    "ax1.set_xlabel('Energy in keV')\n",
    "ax1.set_ylabel('contrast between Al Cu')\n",
    "\n",
    "ax2.plot(Energy_range/1000,trans,'g-')   \n",
    "ax2.set_ylabel('transmission Al Cu')"
   ]
  },
  {
   "cell_type": "code",
   "execution_count": null,
   "id": "b8852fdc",
   "metadata": {},
   "outputs": [],
   "source": []
  },
  {
   "cell_type": "code",
   "execution_count": null,
   "id": "081d57e1",
   "metadata": {},
   "outputs": [],
   "source": []
  }
 ],
 "metadata": {
  "kernelspec": {
   "display_name": "Python 3",
   "language": "python",
   "name": "python3"
  },
  "language_info": {
   "codemirror_mode": {
    "name": "ipython",
    "version": 3
   },
   "file_extension": ".py",
   "mimetype": "text/x-python",
   "name": "python",
   "nbconvert_exporter": "python",
   "pygments_lexer": "ipython3",
   "version": "3.6.13"
  }
 },
 "nbformat": 4,
 "nbformat_minor": 5
}
